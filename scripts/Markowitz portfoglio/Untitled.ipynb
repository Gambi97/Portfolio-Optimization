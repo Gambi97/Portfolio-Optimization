{
 "cells": [
  {
   "cell_type": "code",
   "execution_count": 82,
   "metadata": {},
   "outputs": [],
   "source": [
    "import numpy as np\n",
    "import pandas as pd\n",
    "import matplotlib.pyplot as plt"
   ]
  },
  {
   "cell_type": "code",
   "execution_count": 95,
   "metadata": {},
   "outputs": [],
   "source": [
    "capitale=50000\n",
    "quota=1000\n",
    "z=1.09**(1/12)\n",
    "anni=40\n",
    "p_costo=0.0127\n",
    "charge=1.05\n",
    "        "
   ]
  },
  {
   "cell_type": "code",
   "execution_count": 96,
   "metadata": {},
   "outputs": [
    {
     "name": "stdout",
     "output_type": "stream",
     "text": [
      "anno0 capitale = 65149.26 quota= 1000 capitale versato = 12000\n",
      "anno1 capitale = 82019.31 quota= 1050.0 capitale versato = 24600\n",
      "anno2 capitale = 100769.56 quota= 1102.5 capitale versato = 37830\n",
      "anno3 capitale = 121572.97 quota= 1157.62 capitale versato = 51722\n",
      "anno4 capitale = 144617.16 quota= 1215.51 capitale versato = 66308\n",
      "anno5 capitale = 170105.6 quota= 1276.28 capitale versato = 81623\n",
      "anno6 capitale = 198258.91 quota= 1340.1 capitale versato = 97704\n",
      "anno7 capitale = 229316.21 quota= 1407.1 capitale versato = 114589\n",
      "anno8 capitale = 263536.67 quota= 1477.46 capitale versato = 132319\n",
      "anno9 capitale = 301201.09 quota= 1551.33 capitale versato = 150935\n",
      "anno10 capitale = 342613.62 quota= 1628.89 capitale versato = 170481\n",
      "anno11 capitale = 388103.71 quota= 1710.34 capitale versato = 191006\n",
      "anno12 capitale = 438028.06 quota= 1795.86 capitale versato = 212556\n",
      "anno13 capitale = 492772.89 quota= 1885.65 capitale versato = 235184\n",
      "anno14 capitale = 552756.21 quota= 1979.93 capitale versato = 258943\n",
      "anno15 capitale = 618430.44 quota= 2078.93 capitale versato = 283890\n",
      "anno16 capitale = 690285.12 quota= 2182.87 capitale versato = 310084\n",
      "anno17 capitale = 768849.89 quota= 2292.02 capitale versato = 337589\n",
      "anno18 capitale = 854697.64 quota= 2406.62 capitale versato = 366468\n",
      "anno19 capitale = 948448.03 quota= 2526.95 capitale versato = 396791\n",
      "anno20 capitale = 1050771.12 quota= 2653.3 capitale versato = 428631\n",
      "anno21 capitale = 1162391.44 quota= 2785.96 capitale versato = 462063\n",
      "anno22 capitale = 1284092.27 quota= 2925.26 capitale versato = 497166\n",
      "anno23 capitale = 1416720.3 quota= 3071.52 capitale versato = 534024\n",
      "anno24 capitale = 1561190.64 quota= 3225.1 capitale versato = 572725\n",
      "anno25 capitale = 1718492.28 quota= 3386.35 capitale versato = 613361\n",
      "anno26 capitale = 1889693.84 quota= 3555.67 capitale versato = 656030\n",
      "anno27 capitale = 2075949.91 quota= 3733.46 capitale versato = 700831\n",
      "anno28 capitale = 2278507.82 quota= 3920.13 capitale versato = 747873\n",
      "anno29 capitale = 2498714.92 quota= 4116.14 capitale versato = 797266\n",
      "anno30 capitale = 2738026.48 quota= 4321.94 capitale versato = 849129\n",
      "anno31 capitale = 2998014.13 quota= 4538.04 capitale versato = 903586\n",
      "anno32 capitale = 3280375.05 quota= 4764.94 capitale versato = 960765\n",
      "anno33 capitale = 3586941.78 quota= 5003.19 capitale versato = 1020804\n",
      "anno34 capitale = 3919692.88 quota= 5253.35 capitale versato = 1083844\n",
      "anno35 capitale = 4280764.32 quota= 5516.02 capitale versato = 1150036\n",
      "anno36 capitale = 4672461.85 quota= 5791.82 capitale versato = 1219538\n",
      "anno37 capitale = 5097274.26 quota= 6081.41 capitale versato = 1292515\n",
      "anno38 capitale = 5557887.69 quota= 6385.48 capitale versato = 1369140\n",
      "anno39 capitale = 6057201.08 quota= 6704.75 capitale versato = 1449597\n",
      "anno40 capitale = 6598342.74 quota= 7039.99 capitale versato = 1534077\n",
      "5059265.587036464\n"
     ]
    },
    {
     "data": {
      "image/png": "[encoded data removed]",
      "text/plain": [
       "<Figure size 432x288 with 1 Axes>"
      ]
     },
     "metadata": {
      "needs_background": "light"
     },
     "output_type": "display_data"
    }
   ],
   "source": [
    "somma_quote=0\n",
    "array=[]\n",
    "array2=[]\n",
    "for anni in range(0,anni+1):\n",
    "   \n",
    "    for mesi in range(1,13):\n",
    "        if mesi==1:\n",
    "            capitale=capitale*z\n",
    "            primo_entrata=capitale\n",
    "            #print(round(primo_entrata,2))\n",
    "        else:\n",
    "            capitale=(capitale+quota)*z\n",
    "            #print(round(capitale,2)\n",
    "        somma_quote=somma_quote+quota\n",
    "        \n",
    "    capitale=capitale-capitale*p_costo\n",
    "    array.append(capitale)\n",
    "    array2.append(somma_quote)\n",
    "    print(\"anno\" + str(anni) +\" capitale = \"+ str(round(capitale,2)) + \" quota= \"+ \n",
    "          str(round(quota,2)) + \" capitale versato = \" + str(round(somma_quote)))\n",
    "    quota=quota*charge\n",
    "    \n",
    "guadagno=capitale-somma_quote-5000\n",
    "print(guadagno)\n",
    "plt.plot(array);\n",
    "#plt.yscale('symlog')\n",
    "plt.xlabel('anni')\n",
    "plt.ylabel('euro[€]')\n",
    "plt.plot(array2);\n",
    "plt.grid(True)\n"
   ]
  },
  {
   "cell_type": "code",
   "execution_count": null,
   "metadata": {
    "scrolled": true
   },
   "outputs": [],
   "source": []
  },
  {
   "cell_type": "code",
   "execution_count": null,
   "metadata": {},
   "outputs": [],
   "source": []
  },
  {
   "cell_type": "code",
   "execution_count": null,
   "metadata": {},
   "outputs": [],
   "source": []
  }
 ],
 "metadata": {
  "kernelspec": {
   "display_name": "Python 3",
   "language": "python",
   "name": "python3"
  },
  "language_info": {
   "codemirror_mode": {
    "name": "ipython",
    "version": 3
   },
   "file_extension": ".py",
   "mimetype": "text/x-python",
   "name": "python",
   "nbconvert_exporter": "python",
   "pygments_lexer": "ipython3",
   "version": "3.7.3"
  }
 },
 "nbformat": 4,
 "nbformat_minor": 2
}
